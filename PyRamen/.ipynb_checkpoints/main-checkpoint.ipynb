{
 "cells": [
  {
   "cell_type": "code",
   "execution_count": 64,
   "metadata": {},
   "outputs": [
    {
     "name": "stdout",
     "output_type": "stream",
     "text": [
      "['edamame', 'appetizers', 'boiled soybeans, maldon sea salt', '4', '1']\n",
      "['1', '01-01-2017', '7437926611570799', '1', 'spicy miso ramen']\n"
     ]
    }
   ],
   "source": [
    "import os\n",
    "import csv\n",
    "\n",
    "# Set the path for the csv file\n",
    "csvpath = os.path.join(\"menu_data.csv\")\n",
    "\n",
    "# Create new lists to store contents of menu data\n",
    "menu = []\n",
    "\n",
    "# Open the csv\n",
    "with open(csvpath, newline=\"\") as csvfile:\n",
    "    csvreader = csv.reader(csvfile, delimiter=\",\")\n",
    "\n",
    "    # skip header\n",
    "    csv_header = next(csvreader)\n",
    "    \n",
    "    # iterate through each row and append to menu list\n",
    "    for row in csvreader:\n",
    "        menu.append(row)\n",
    "\n",
    "# This is the same code used to read sales data        \n",
    "\n",
    "csvpath_two = os.path.join(\"sales_data.csv\")\n",
    "\n",
    "# Create new lists to store contents of sales data\n",
    "sales = []\n",
    "\n",
    "# Open the csv\n",
    "with open(csvpath_two, newline=\"\") as csvfile_two:\n",
    "    csvreader_two = csv.reader(csvfile_two, delimiter=\",\")\n",
    "\n",
    "    # Skip header\n",
    "    csv_header_two = next(csvreader_two)\n",
    "\n",
    "    # iterate through each row and append to menu list\n",
    "    for row in csvreader_two:\n",
    "        sales.append(row)\n",
    "\n",
    "print(menu[0])\n",
    "print(sales[0])"
   ]
  },
  {
   "cell_type": "code",
   "execution_count": null,
   "metadata": {},
   "outputs": [],
   "source": []
  }
 ],
 "metadata": {
  "kernelspec": {
   "display_name": "Python 3",
   "language": "python",
   "name": "python3"
  },
  "language_info": {
   "codemirror_mode": {
    "name": "ipython",
    "version": 3
   },
   "file_extension": ".py",
   "mimetype": "text/x-python",
   "name": "python",
   "nbconvert_exporter": "python",
   "pygments_lexer": "ipython3",
   "version": "3.7.4"
  }
 },
 "nbformat": 4,
 "nbformat_minor": 4
}
